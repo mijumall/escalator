{
 "cells": [
  {
   "cell_type": "code",
   "execution_count": 1,
   "id": "5c406e64-5647-480b-b401-f6602483c732",
   "metadata": {},
   "outputs": [],
   "source": [
    "import numpy as np\n",
    "import pandas as pd\n",
    "import matplotlib.pyplot as plt\n",
    "\n",
    "from regression import Model"
   ]
  },
  {
   "cell_type": "code",
   "execution_count": 2,
   "id": "e5e30fda-42f8-4b50-95bb-6200ea348067",
   "metadata": {},
   "outputs": [],
   "source": [
    "df = pd.read_csv('cleaned_data.csv')"
   ]
  },
  {
   "cell_type": "code",
   "execution_count": 3,
   "id": "ea86c1d0-359c-4828-9956-3217ab22e8fe",
   "metadata": {},
   "outputs": [
    {
     "data": {
      "text/html": [
       "<div>\n",
       "<style scoped>\n",
       "    .dataframe tbody tr th:only-of-type {\n",
       "        vertical-align: middle;\n",
       "    }\n",
       "\n",
       "    .dataframe tbody tr th {\n",
       "        vertical-align: top;\n",
       "    }\n",
       "\n",
       "    .dataframe thead th {\n",
       "        text-align: right;\n",
       "    }\n",
       "</style>\n",
       "<table border=\"1\" class=\"dataframe\">\n",
       "  <thead>\n",
       "    <tr style=\"text-align: right;\">\n",
       "      <th></th>\n",
       "      <th>id</th>\n",
       "      <th>ride_style</th>\n",
       "      <th>speed</th>\n",
       "      <th>poster</th>\n",
       "      <th>staff</th>\n",
       "      <th>time</th>\n",
       "      <th>is_female</th>\n",
       "      <th>is_assistant</th>\n",
       "      <th>is_raining</th>\n",
       "      <th>day</th>\n",
       "      <th>week</th>\n",
       "      <th>total_passenger</th>\n",
       "    </tr>\n",
       "  </thead>\n",
       "  <tbody>\n",
       "    <tr>\n",
       "      <th>0</th>\n",
       "      <td>1</td>\n",
       "      <td>ls</td>\n",
       "      <td>0</td>\n",
       "      <td>0</td>\n",
       "      <td>0</td>\n",
       "      <td>40</td>\n",
       "      <td>1</td>\n",
       "      <td>0</td>\n",
       "      <td>0</td>\n",
       "      <td>Mon</td>\n",
       "      <td>0</td>\n",
       "      <td>351</td>\n",
       "    </tr>\n",
       "    <tr>\n",
       "      <th>1</th>\n",
       "      <td>2</td>\n",
       "      <td>ls</td>\n",
       "      <td>0</td>\n",
       "      <td>0</td>\n",
       "      <td>0</td>\n",
       "      <td>40</td>\n",
       "      <td>0</td>\n",
       "      <td>0</td>\n",
       "      <td>0</td>\n",
       "      <td>Mon</td>\n",
       "      <td>0</td>\n",
       "      <td>351</td>\n",
       "    </tr>\n",
       "    <tr>\n",
       "      <th>2</th>\n",
       "      <td>3</td>\n",
       "      <td>ls</td>\n",
       "      <td>0</td>\n",
       "      <td>0</td>\n",
       "      <td>0</td>\n",
       "      <td>40</td>\n",
       "      <td>0</td>\n",
       "      <td>0</td>\n",
       "      <td>0</td>\n",
       "      <td>Mon</td>\n",
       "      <td>0</td>\n",
       "      <td>351</td>\n",
       "    </tr>\n",
       "    <tr>\n",
       "      <th>3</th>\n",
       "      <td>4</td>\n",
       "      <td>ls</td>\n",
       "      <td>0</td>\n",
       "      <td>0</td>\n",
       "      <td>0</td>\n",
       "      <td>40</td>\n",
       "      <td>0</td>\n",
       "      <td>0</td>\n",
       "      <td>0</td>\n",
       "      <td>Mon</td>\n",
       "      <td>0</td>\n",
       "      <td>351</td>\n",
       "    </tr>\n",
       "    <tr>\n",
       "      <th>4</th>\n",
       "      <td>5</td>\n",
       "      <td>ls</td>\n",
       "      <td>0</td>\n",
       "      <td>0</td>\n",
       "      <td>0</td>\n",
       "      <td>40</td>\n",
       "      <td>0</td>\n",
       "      <td>0</td>\n",
       "      <td>0</td>\n",
       "      <td>Mon</td>\n",
       "      <td>0</td>\n",
       "      <td>351</td>\n",
       "    </tr>\n",
       "    <tr>\n",
       "      <th>...</th>\n",
       "      <td>...</td>\n",
       "      <td>...</td>\n",
       "      <td>...</td>\n",
       "      <td>...</td>\n",
       "      <td>...</td>\n",
       "      <td>...</td>\n",
       "      <td>...</td>\n",
       "      <td>...</td>\n",
       "      <td>...</td>\n",
       "      <td>...</td>\n",
       "      <td>...</td>\n",
       "      <td>...</td>\n",
       "    </tr>\n",
       "    <tr>\n",
       "      <th>5691</th>\n",
       "      <td>5692</td>\n",
       "      <td>ls</td>\n",
       "      <td>1</td>\n",
       "      <td>1</td>\n",
       "      <td>1</td>\n",
       "      <td>58</td>\n",
       "      <td>0</td>\n",
       "      <td>0</td>\n",
       "      <td>1</td>\n",
       "      <td>Wed</td>\n",
       "      <td>3</td>\n",
       "      <td>340</td>\n",
       "    </tr>\n",
       "    <tr>\n",
       "      <th>5692</th>\n",
       "      <td>5693</td>\n",
       "      <td>ls</td>\n",
       "      <td>1</td>\n",
       "      <td>1</td>\n",
       "      <td>1</td>\n",
       "      <td>58</td>\n",
       "      <td>1</td>\n",
       "      <td>0</td>\n",
       "      <td>1</td>\n",
       "      <td>Wed</td>\n",
       "      <td>3</td>\n",
       "      <td>340</td>\n",
       "    </tr>\n",
       "    <tr>\n",
       "      <th>5693</th>\n",
       "      <td>5694</td>\n",
       "      <td>rs</td>\n",
       "      <td>1</td>\n",
       "      <td>1</td>\n",
       "      <td>1</td>\n",
       "      <td>58</td>\n",
       "      <td>0</td>\n",
       "      <td>1</td>\n",
       "      <td>1</td>\n",
       "      <td>Wed</td>\n",
       "      <td>3</td>\n",
       "      <td>340</td>\n",
       "    </tr>\n",
       "    <tr>\n",
       "      <th>5694</th>\n",
       "      <td>5695</td>\n",
       "      <td>rs</td>\n",
       "      <td>1</td>\n",
       "      <td>1</td>\n",
       "      <td>1</td>\n",
       "      <td>59</td>\n",
       "      <td>0</td>\n",
       "      <td>1</td>\n",
       "      <td>1</td>\n",
       "      <td>Wed</td>\n",
       "      <td>3</td>\n",
       "      <td>340</td>\n",
       "    </tr>\n",
       "    <tr>\n",
       "      <th>5695</th>\n",
       "      <td>5696</td>\n",
       "      <td>rs</td>\n",
       "      <td>1</td>\n",
       "      <td>1</td>\n",
       "      <td>1</td>\n",
       "      <td>59</td>\n",
       "      <td>0</td>\n",
       "      <td>1</td>\n",
       "      <td>1</td>\n",
       "      <td>Wed</td>\n",
       "      <td>3</td>\n",
       "      <td>340</td>\n",
       "    </tr>\n",
       "  </tbody>\n",
       "</table>\n",
       "<p>5696 rows × 12 columns</p>\n",
       "</div>"
      ],
      "text/plain": [
       "        id ride_style  speed  poster  staff  time  is_female  is_assistant  \\\n",
       "0        1         ls      0       0      0    40          1             0   \n",
       "1        2         ls      0       0      0    40          0             0   \n",
       "2        3         ls      0       0      0    40          0             0   \n",
       "3        4         ls      0       0      0    40          0             0   \n",
       "4        5         ls      0       0      0    40          0             0   \n",
       "...    ...        ...    ...     ...    ...   ...        ...           ...   \n",
       "5691  5692         ls      1       1      1    58          0             0   \n",
       "5692  5693         ls      1       1      1    58          1             0   \n",
       "5693  5694         rs      1       1      1    58          0             1   \n",
       "5694  5695         rs      1       1      1    59          0             1   \n",
       "5695  5696         rs      1       1      1    59          0             1   \n",
       "\n",
       "      is_raining  day  week  total_passenger  \n",
       "0              0  Mon     0              351  \n",
       "1              0  Mon     0              351  \n",
       "2              0  Mon     0              351  \n",
       "3              0  Mon     0              351  \n",
       "4              0  Mon     0              351  \n",
       "...          ...  ...   ...              ...  \n",
       "5691           1  Wed     3              340  \n",
       "5692           1  Wed     3              340  \n",
       "5693           1  Wed     3              340  \n",
       "5694           1  Wed     3              340  \n",
       "5695           1  Wed     3              340  \n",
       "\n",
       "[5696 rows x 12 columns]"
      ]
     },
     "execution_count": 3,
     "metadata": {},
     "output_type": "execute_result"
    }
   ],
   "source": [
    "df"
   ]
  },
  {
   "cell_type": "markdown",
   "id": "5755f5f0-1aee-4c9c-bc59-045c6030a524",
   "metadata": {},
   "source": [
    "# Figure 1: Walk"
   ]
  },
  {
   "cell_type": "code",
   "execution_count": 4,
   "id": "253d1560-92e6-4166-9f71-d8c350bcd806",
   "metadata": {},
   "outputs": [],
   "source": [
    "dfa = df.copy()"
   ]
  },
  {
   "cell_type": "code",
   "execution_count": 5,
   "id": "3ff1375d-ed59-4e53-bf35-aff18686820c",
   "metadata": {},
   "outputs": [],
   "source": [
    "# walk: 1, stand: 0\n",
    "ride_style_map = {'rw': 1, 'lw': 1, 'rs': 0, 'ls': 0}\n",
    "dfa.replace({'ride_style': ride_style_map}, inplace=True)"
   ]
  },
  {
   "cell_type": "code",
   "execution_count": 6,
   "id": "21e0b1a0-97d1-4627-9814-7f545000759c",
   "metadata": {},
   "outputs": [],
   "source": [
    "time = dfa[dfa['time'].duplicated() == False]['time']\n",
    "\n",
    "ride_count = list()\n",
    "for t in time:\n",
    "    c = dfa[(dfa['ride_style'] == 1) & (dfa['time'] == t)]['id'].count()\n",
    "    ride_count.append(c)"
   ]
  },
  {
   "cell_type": "code",
   "execution_count": 7,
   "id": "5102e33a-de2f-4131-814a-2b08b71355e1",
   "metadata": {},
   "outputs": [
    {
     "data": {
      "image/png": "[encoded data removed]",
      "text/plain": [
       "<Figure size 1152x648 with 1 Axes>"
      ]
     },
     "metadata": {},
     "output_type": "display_data"
    }
   ],
   "source": [
    "with plt.style.context('dark_background'):\n",
    "    plt.figure(figsize=(16, 9))\n",
    "    \n",
    "    plt.title('Total number of walkers', fontsize=25)\n",
    "    plt.xlabel('Time', fontsize=20)\n",
    "    plt.ylabel('N', fontsize=20)\n",
    "    plt.xticks(time, fontsize=16)\n",
    "    plt.yticks(fontsize=16)\n",
    "    \n",
    "    plt.plot(time, ride_count)\n",
    "    plt.grid(alpha=0.2)\n",
    "    \n",
    "    plt.show()"
   ]
  },
  {
   "cell_type": "markdown",
   "id": "cf061df7-853c-45a9-90c4-086224f762fd",
   "metadata": {},
   "source": [
    "# t-test (rs:1, rw,lw,ls: 0)"
   ]
  },
  {
   "cell_type": "code",
   "execution_count": 8,
   "id": "a2096ef4-ffad-4969-b7d1-a3e7f240751e",
   "metadata": {},
   "outputs": [],
   "source": [
    "dfb = df[df['is_assistant'] == 0].copy()"
   ]
  },
  {
   "cell_type": "code",
   "execution_count": 9,
   "id": "f22df4f5-06d4-4acb-bfba-3a8d686af1d6",
   "metadata": {},
   "outputs": [],
   "source": [
    "ride_style_map = {'rw': 0, 'lw': 0, 'rs': 1, 'ls': 0}\n",
    "dfb.replace({'ride_style': ride_style_map}, inplace=True)"
   ]
  },
  {
   "cell_type": "code",
   "execution_count": 10,
   "id": "149528e0-cd00-4625-92bf-0ca9be1e3b4e",
   "metadata": {},
   "outputs": [],
   "source": [
    "Y = dfb['ride_style']\n",
    "X = dfb[['speed', 'poster', 'staff', 'time', 'is_female', 'is_raining', 'week', 'total_passenger']]\n",
    "m = Model(Y, X)"
   ]
  },
  {
   "cell_type": "code",
   "execution_count": 11,
   "id": "2d785b96-1eb2-4a3f-ba84-17e5792a520b",
   "metadata": {},
   "outputs": [
    {
     "name": "stdout",
     "output_type": "stream",
     "text": [
      "Regression starts... \n",
      "\n",
      "Explained variable: ride_style\n",
      "\n",
      "Adjusted R-squared: 0.0044\n",
      "\n",
      "Two-tailed t-test results:\n",
      "\n",
      "              Name      Coef   Std Err   t-value   p-value\n",
      "0       _constant_ -0.045665  0.017271 -2.644038  0.008084\n",
      "1            speed -0.002858  0.007682 -0.372079  0.706861\n",
      "2           poster  0.016543  0.009521  1.737623  0.081447\n",
      "3            staff  0.021896  0.011386  1.923072  0.054056\n",
      "4             time  0.001029  0.000351  2.936259  0.003275\n",
      "5        is_female -0.001241  0.003225 -0.384980  0.697958\n",
      "6       is_raining -0.022655  0.011574 -1.957430  0.049716\n",
      "7             week -0.005777  0.006828 -0.846164  0.395230\n",
      "8  total_passenger  0.000035  0.000020  1.731314  0.082856 \n",
      "\n",
      "\n",
      "Correlation between independent variables:\n",
      "\n",
      "                    speed    poster     staff      time  is_female  \\\n",
      "speed            1.000000  0.527617  0.241802  0.017433  -0.000600   \n",
      "poster           0.527617  1.000000  0.458290  0.038284  -0.007847   \n",
      "staff            0.241802  0.458290  1.000000  0.003047   0.006579   \n",
      "time             0.017433  0.038284  0.003047  1.000000  -0.056321   \n",
      "is_female       -0.000600 -0.007847  0.006579 -0.056321   1.000000   \n",
      "is_raining       0.155204  0.294161  0.641866  0.005118   0.014269   \n",
      "week             0.776375  0.886354  0.586176  0.025517   0.003487   \n",
      "total_passenger -0.116823 -0.209182  0.274509 -0.009135   0.055870   \n",
      "\n",
      "                 is_raining      week  total_passenger  \n",
      "speed              0.155204  0.776375        -0.116823  \n",
      "poster             0.294161  0.886354        -0.209182  \n",
      "staff              0.641866  0.586176         0.274509  \n",
      "time               0.005118  0.025517        -0.009135  \n",
      "is_female          0.014269  0.003487         0.055870  \n",
      "is_raining         1.000000  0.376246        -0.015439  \n",
      "week               0.376246  1.000000        -0.056171  \n",
      "total_passenger   -0.015439 -0.056171         1.000000  \n"
     ]
    }
   ],
   "source": [
    "m.regression()"
   ]
  },
  {
   "cell_type": "markdown",
   "id": "76ab2378-3f3e-47cd-8a4d-e63a25ec72df",
   "metadata": {},
   "source": [
    "# t-test (ls,rs:1, rw,lw:0)"
   ]
  },
  {
   "cell_type": "code",
   "execution_count": 12,
   "id": "b717974b-f58a-4330-814d-33585f7f2096",
   "metadata": {},
   "outputs": [],
   "source": [
    "dfc = df[df['is_assistant'] == 0].copy()"
   ]
  },
  {
   "cell_type": "code",
   "execution_count": 13,
   "id": "548aad2d-e41f-44be-ab7b-84b4a84f6028",
   "metadata": {},
   "outputs": [],
   "source": [
    "ride_style_map = {'rw': 0, 'lw': 0, 'rs': 1, 'ls': 1}\n",
    "dfc.replace({'ride_style': ride_style_map}, inplace=True)"
   ]
  },
  {
   "cell_type": "code",
   "execution_count": 14,
   "id": "41adedd1-0630-4c6c-b97c-ddfb63e587f3",
   "metadata": {},
   "outputs": [],
   "source": [
    "Y = dfc['ride_style']\n",
    "X = dfc[['speed', 'poster', 'staff', 'time', 'is_female', 'is_raining', 'week', 'total_passenger']]\n",
    "m = Model(Y, X)"
   ]
  },
  {
   "cell_type": "code",
   "execution_count": 16,
   "id": "e50ba61e-1900-458d-bd39-44e51c825e77",
   "metadata": {},
   "outputs": [
    {
     "name": "stdout",
     "output_type": "stream",
     "text": [
      "Regression starts... \n",
      "\n",
      "Explained variable: ride_style\n",
      "\n",
      "Adjusted R-squared: 0.2072\n",
      "\n",
      "Two-tailed t-test results:\n",
      "\n",
      "              Name      Coef   Std Err    t-value   p-value\n",
      "0  total_passenger -0.000518  0.000113  -4.582707  0.000004\n",
      "1       _constant_  2.718007  0.066975  40.582314  0.000000\n",
      "2            speed  0.046179  0.026961   1.712846  0.086099\n",
      "3           poster  0.051292  0.033419   1.534796  0.123973\n",
      "4            staff  0.115849  0.027548   4.205308  0.000025\n",
      "5             time -0.038205  0.001171 -32.614942  0.000000\n",
      "6        is_female  0.075014  0.010580   7.090354  0.000000\n",
      "7       is_raining  0.055027  0.025925   2.122524  0.033467\n",
      "8             week -0.036208  0.023628  -1.532406  0.124462 \n",
      "\n",
      "\n",
      "Correlation between independent variables:\n",
      "\n",
      "                 total_passenger     speed    poster     staff      time  \\\n",
      "total_passenger         1.000000 -0.116823 -0.209182  0.274509 -0.009135   \n",
      "speed                  -0.116823  1.000000  0.527617  0.241802  0.017433   \n",
      "poster                 -0.209182  0.527617  1.000000  0.458290  0.038284   \n",
      "staff                   0.274509  0.241802  0.458290  1.000000  0.003047   \n",
      "time                   -0.009135  0.017433  0.038284  0.003047  1.000000   \n",
      "is_female               0.055870 -0.000600 -0.007847  0.006579 -0.056321   \n",
      "is_raining             -0.015439  0.155204  0.294161  0.641866  0.005118   \n",
      "week                   -0.056171  0.776375  0.886354  0.586176  0.025517   \n",
      "\n",
      "                 is_female  is_raining      week  \n",
      "total_passenger   0.055870   -0.015439 -0.056171  \n",
      "speed            -0.000600    0.155204  0.776375  \n",
      "poster           -0.007847    0.294161  0.886354  \n",
      "staff             0.006579    0.641866  0.586176  \n",
      "time             -0.056321    0.005118  0.025517  \n",
      "is_female         1.000000    0.014269  0.003487  \n",
      "is_raining        0.014269    1.000000  0.376246  \n",
      "week              0.003487    0.376246  1.000000  \n"
     ]
    }
   ],
   "source": [
    "m.regression()"
   ]
  },
  {
   "cell_type": "code",
   "execution_count": null,
   "id": "da388d18-6ea4-4513-be06-040434396bc5",
   "metadata": {},
   "outputs": [],
   "source": []
  }
 ],
 "metadata": {
  "kernelspec": {
   "display_name": "Python 3",
   "language": "python",
   "name": "python3"
  },
  "language_info": {
   "codemirror_mode": {
    "name": "ipython",
    "version": 3
   },
   "file_extension": ".py",
   "mimetype": "text/x-python",
   "name": "python",
   "nbconvert_exporter": "python",
   "pygments_lexer": "ipython3",
   "version": "3.8.10"
  }
 },
 "nbformat": 4,
 "nbformat_minor": 5
}
