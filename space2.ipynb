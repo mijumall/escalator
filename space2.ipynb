{
 "cells": [
  {
   "cell_type": "code",
   "execution_count": 1,
   "id": "5c406e64-5647-480b-b401-f6602483c732",
   "metadata": {},
   "outputs": [],
   "source": [
    "import numpy as np\n",
    "import pandas as pd\n",
    "import matplotlib.pyplot as plt\n",
    "\n",
    "from regression import Model"
   ]
  },
  {
   "cell_type": "code",
   "execution_count": 2,
   "id": "e5e30fda-42f8-4b50-95bb-6200ea348067",
   "metadata": {},
   "outputs": [],
   "source": [
    "df = pd.read_csv('data.csv')"
   ]
  },
  {
   "cell_type": "code",
   "execution_count": 3,
   "id": "cc3d9175-1668-4a34-9f50-f9ed1e2ff703",
   "metadata": {},
   "outputs": [],
   "source": [
    "df = df[df['is_assistant'] == 0]"
   ]
  },
  {
   "cell_type": "markdown",
   "id": "cf061df7-853c-45a9-90c4-086224f762fd",
   "metadata": {},
   "source": [
    "# t-test (rs:1, rw,lw,ls: 0)"
   ]
  },
  {
   "cell_type": "code",
   "execution_count": 4,
   "id": "a2096ef4-ffad-4969-b7d1-a3e7f240751e",
   "metadata": {},
   "outputs": [],
   "source": [
    "dfb = df[df['is_assistant'] == 0].copy()"
   ]
  },
  {
   "cell_type": "code",
   "execution_count": 5,
   "id": "f22df4f5-06d4-4acb-bfba-3a8d686af1d6",
   "metadata": {},
   "outputs": [],
   "source": [
    "ride_style_map = {'rw': 0, 'lw': 0, 'rs': 1, 'ls': 0}\n",
    "dfb.replace({'ride_style': ride_style_map}, inplace=True)"
   ]
  },
  {
   "cell_type": "code",
   "execution_count": 6,
   "id": "149528e0-cd00-4625-92bf-0ca9be1e3b4e",
   "metadata": {},
   "outputs": [],
   "source": [
    "Y = dfb['ride_style']\n",
    "X = dfb[['speed', 'poster', 'staff', 'time', 'is_female', 'is_raining', 'day']]\n",
    "m = Model(Y, X, dummy=['day'])"
   ]
  },
  {
   "cell_type": "code",
   "execution_count": 7,
   "id": "2d785b96-1eb2-4a3f-ba84-17e5792a520b",
   "metadata": {},
   "outputs": [
    {
     "name": "stdout",
     "output_type": "stream",
     "text": [
      "Regression starts... \n",
      "\n",
      "Explained variable: ride_style\n",
      "\n",
      "Adjusted R-squared: 0.006\n",
      "\n",
      "Two-tailed t-test results:\n",
      "\n",
      "          Name      Coef   Std Err   t-value   p-value\n",
      "0   _constant_ -0.022492  0.016203 -1.388136  0.163838\n",
      "1        speed -0.008733  0.003475 -2.513052  0.011852\n",
      "2       poster  0.009495  0.003772  2.517312  0.011718\n",
      "3        staff  0.012837  0.006590  1.947909  0.050891\n",
      "4         time  0.000699  0.000331  2.110291  0.034479\n",
      "5    is_female -0.001835  0.003228 -0.568345  0.567244\n",
      "6   is_raining -0.022032  0.009269 -2.376864  0.017290\n",
      "7      day_Tue  0.014493  0.004976  2.912235  0.003538\n",
      "8      day_Wed  0.008989  0.004471  2.010589  0.043967\n",
      "9      day_Thu -0.004855  0.003771 -1.287640  0.196267\n",
      "10     day_Fri  0.005322  0.004240  1.255209  0.208300 \n",
      "\n",
      "\n",
      "Correlation between independent variables:\n",
      "\n",
      "               speed    poster     staff      time  is_female  is_raining  \\\n",
      "speed       1.000000  0.555716  0.313345  0.016927   0.004050    0.136480   \n",
      "poster      0.555716  1.000000  0.563858  0.035103   0.001359    0.245592   \n",
      "staff       0.313345  0.563858  1.000000  0.004317   0.019432    0.435557   \n",
      "time        0.016927  0.035103  0.004317  1.000000  -0.059781    0.004629   \n",
      "is_female   0.004050  0.001359  0.019432 -0.059781   1.000000    0.011893   \n",
      "is_raining  0.136480  0.245592  0.435557  0.004629   0.011893    1.000000   \n",
      "day_Tue     0.034463  0.040305  0.084954  0.012186  -0.036080   -0.116134   \n",
      "day_Wed    -0.008749  0.011059  0.027109 -0.004861  -0.033200    0.433189   \n",
      "day_Thu     0.026366  0.038167  0.040916 -0.025384  -0.042388   -0.095510   \n",
      "day_Fri    -0.075105 -0.140633  0.126134  0.001942   0.053499   -0.109828   \n",
      "\n",
      "             day_Tue   day_Wed   day_Thu   day_Fri  \n",
      "speed       0.034463 -0.008749  0.026366 -0.075105  \n",
      "poster      0.040305  0.011059  0.038167 -0.140633  \n",
      "staff       0.084954  0.027109  0.040916  0.126134  \n",
      "time        0.012186 -0.004861 -0.025384  0.001942  \n",
      "is_female  -0.036080 -0.033200 -0.042388  0.053499  \n",
      "is_raining -0.116134  0.433189 -0.095510 -0.109828  \n",
      "day_Tue     1.000000 -0.268091 -0.228410 -0.262651  \n",
      "day_Wed    -0.268091  1.000000 -0.220482 -0.253534  \n",
      "day_Thu    -0.228410 -0.220482  1.000000 -0.216007  \n",
      "day_Fri    -0.262651 -0.253534 -0.216007  1.000000  \n"
     ]
    }
   ],
   "source": [
    "m.regression()"
   ]
  },
  {
   "cell_type": "markdown",
   "id": "76ab2378-3f3e-47cd-8a4d-e63a25ec72df",
   "metadata": {},
   "source": [
    "# t-test (ls,rs:1, rw,lw:0)"
   ]
  },
  {
   "cell_type": "code",
   "execution_count": 8,
   "id": "b717974b-f58a-4330-814d-33585f7f2096",
   "metadata": {},
   "outputs": [],
   "source": [
    "dfc = df[df['is_assistant'] == 0].copy()"
   ]
  },
  {
   "cell_type": "code",
   "execution_count": 9,
   "id": "548aad2d-e41f-44be-ab7b-84b4a84f6028",
   "metadata": {},
   "outputs": [],
   "source": [
    "ride_style_map = {'rw': 0, 'lw': 0, 'rs': 1, 'ls': 1}\n",
    "dfc.replace({'ride_style': ride_style_map}, inplace=True)"
   ]
  },
  {
   "cell_type": "code",
   "execution_count": 10,
   "id": "41adedd1-0630-4c6c-b97c-ddfb63e587f3",
   "metadata": {},
   "outputs": [],
   "source": [
    "Y = dfc['ride_style']\n",
    "X = dfc[['speed', 'poster', 'staff', 'time', 'is_female', 'is_raining','day']]\n",
    "m = Model(Y, X, dummy=['day'])"
   ]
  },
  {
   "cell_type": "code",
   "execution_count": 11,
   "id": "e50ba61e-1900-458d-bd39-44e51c825e77",
   "metadata": {},
   "outputs": [
    {
     "name": "stdout",
     "output_type": "stream",
     "text": [
      "Regression starts... \n",
      "\n",
      "Explained variable: ride_style\n",
      "\n",
      "Adjusted R-squared: 0.2027\n",
      "\n",
      "Two-tailed t-test results:\n",
      "\n",
      "          Name      Coef   Std Err    t-value   p-value\n",
      "0   _constant_  2.479334  0.054603  45.406182  0.000000\n",
      "1        speed  0.010686  0.013018   0.820836  0.409845\n",
      "2       poster  0.023504  0.013586   1.730063  0.082856\n",
      "3        staff  0.036268  0.016342   2.219354  0.026253\n",
      "4         time -0.037423  0.001119 -33.442294  0.000000\n",
      "5    is_female  0.075901  0.010080   7.530016  0.000000\n",
      "6   is_raining  0.063549  0.024497   2.594177  0.009362\n",
      "7      day_Tue  0.043926  0.014989   2.930485  0.003339\n",
      "8      day_Wed  0.050283  0.015419   3.261029  0.001095\n",
      "9      day_Thu  0.042548  0.015684   2.712875  0.006596\n",
      "10     day_Fri -0.029953  0.016657  -1.798247  0.071488 \n",
      "\n",
      "\n",
      "Correlation between independent variables:\n",
      "\n",
      "               speed    poster     staff      time  is_female  is_raining  \\\n",
      "speed       1.000000  0.555716  0.313345  0.016927   0.004050    0.136480   \n",
      "poster      0.555716  1.000000  0.563858  0.035103   0.001359    0.245592   \n",
      "staff       0.313345  0.563858  1.000000  0.004317   0.019432    0.435557   \n",
      "time        0.016927  0.035103  0.004317  1.000000  -0.059781    0.004629   \n",
      "is_female   0.004050  0.001359  0.019432 -0.059781   1.000000    0.011893   \n",
      "is_raining  0.136480  0.245592  0.435557  0.004629   0.011893    1.000000   \n",
      "day_Tue     0.034463  0.040305  0.084954  0.012186  -0.036080   -0.116134   \n",
      "day_Wed    -0.008749  0.011059  0.027109 -0.004861  -0.033200    0.433189   \n",
      "day_Thu     0.026366  0.038167  0.040916 -0.025384  -0.042388   -0.095510   \n",
      "day_Fri    -0.075105 -0.140633  0.126134  0.001942   0.053499   -0.109828   \n",
      "\n",
      "             day_Tue   day_Wed   day_Thu   day_Fri  \n",
      "speed       0.034463 -0.008749  0.026366 -0.075105  \n",
      "poster      0.040305  0.011059  0.038167 -0.140633  \n",
      "staff       0.084954  0.027109  0.040916  0.126134  \n",
      "time        0.012186 -0.004861 -0.025384  0.001942  \n",
      "is_female  -0.036080 -0.033200 -0.042388  0.053499  \n",
      "is_raining -0.116134  0.433189 -0.095510 -0.109828  \n",
      "day_Tue     1.000000 -0.268091 -0.228410 -0.262651  \n",
      "day_Wed    -0.268091  1.000000 -0.220482 -0.253534  \n",
      "day_Thu    -0.228410 -0.220482  1.000000 -0.216007  \n",
      "day_Fri    -0.262651 -0.253534 -0.216007  1.000000  \n"
     ]
    }
   ],
   "source": [
    "m.regression()"
   ]
  },
  {
   "cell_type": "code",
   "execution_count": null,
   "id": "54f920af-c295-4b43-ab23-f88b7c4ee1d9",
   "metadata": {},
   "outputs": [],
   "source": []
  },
  {
   "cell_type": "code",
   "execution_count": null,
   "id": "8fbd8f50-8dfa-4a55-9a1b-827727b6af8f",
   "metadata": {},
   "outputs": [],
   "source": []
  },
  {
   "cell_type": "markdown",
   "id": "039788c4-23e1-4784-a78e-74c39bca0f04",
   "metadata": {},
   "source": [
    "# Figure 1: Walk"
   ]
  },
  {
   "cell_type": "code",
   "execution_count": 12,
   "id": "a65378c5-2509-4efa-8e39-0f98658a020a",
   "metadata": {},
   "outputs": [],
   "source": [
    "dfa = df.copy()"
   ]
  },
  {
   "cell_type": "code",
   "execution_count": 13,
   "id": "18bf4c2b-78ed-4a73-9d73-c60e5ba9718d",
   "metadata": {},
   "outputs": [],
   "source": [
    "# walk: 1, stand: 0\n",
    "ride_style_map = {'rw': 1, 'lw': 1, 'rs': 0, 'ls': 0}\n",
    "dfa.replace({'ride_style': ride_style_map}, inplace=True)"
   ]
  },
  {
   "cell_type": "code",
   "execution_count": 14,
   "id": "cec78502-d87a-492e-b5ad-69abb1653942",
   "metadata": {},
   "outputs": [],
   "source": [
    "time = dfa[dfa['time'].duplicated() == False]['time']\n",
    "\n",
    "ride_count = list()\n",
    "for t in time:\n",
    "    c = dfa[(dfa['ride_style'] == 1) & (dfa['time'] == t)]['id'].count()\n",
    "    ride_count.append(c)"
   ]
  },
  {
   "cell_type": "code",
   "execution_count": 15,
   "id": "c50d933f-ba7f-4d7f-baea-435e96623aa7",
   "metadata": {},
   "outputs": [
    {
     "data": {
      "image/png": "[encoded data removed]",
      "text/plain": [
       "<Figure size 1152x648 with 1 Axes>"
      ]
     },
     "metadata": {},
     "output_type": "display_data"
    }
   ],
   "source": [
    "with plt.style.context('dark_background'):\n",
    "    plt.figure(figsize=(16, 9))\n",
    "    \n",
    "    plt.title('Total number of walkers', fontsize=25)\n",
    "    plt.xlabel('Time', fontsize=20)\n",
    "    plt.ylabel('N', fontsize=20)\n",
    "    plt.xticks(time, fontsize=16)\n",
    "    plt.yticks(fontsize=16)\n",
    "    \n",
    "    plt.plot(time, ride_count)\n",
    "    plt.grid(alpha=0.2)\n",
    "    \n",
    "    plt.show()"
   ]
  }
 ],
 "metadata": {
  "kernelspec": {
   "display_name": "Python 3",
   "language": "python",
   "name": "python3"
  },
  "language_info": {
   "codemirror_mode": {
    "name": "ipython",
    "version": 3
   },
   "file_extension": ".py",
   "mimetype": "text/x-python",
   "name": "python",
   "nbconvert_exporter": "python",
   "pygments_lexer": "ipython3",
   "version": "3.8.10"
  }
 },
 "nbformat": 4,
 "nbformat_minor": 5
}
